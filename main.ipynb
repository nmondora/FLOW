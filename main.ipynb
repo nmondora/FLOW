{
 "cells": [
  {
   "cell_type": "code",
   "execution_count": 48,
   "metadata": {},
   "outputs": [],
   "source": [
    "from pint import UnitRegistry\n",
    "u = UnitRegistry()\n",
    "Q_ = u.Quantity\n",
    "import pandas as pd\n",
    "import fannoFlow\n",
    "import isentropicFlow"
   ]
  },
  {
   "cell_type": "markdown",
   "metadata": {},
   "source": [
    "# Fanno Flow"
   ]
  },
  {
   "cell_type": "markdown",
   "metadata": {},
   "source": [
    "Use Fanno Flow for constant-area, adiabatic flow with friction."
   ]
  },
  {
   "cell_type": "markdown",
   "metadata": {},
   "source": [
    "### required inputs"
   ]
  },
  {
   "cell_type": "code",
   "execution_count": 49,
   "metadata": {},
   "outputs": [],
   "source": [
    "fluid = \"air\"\n",
    "upstreamPress = 13611.84 * u.pascal\n",
    "tubeDiameter = 0.1 * u.meter\n",
    "tubeLength = 1 * u.meter\n",
    "frictionCoeff = 0.005"
   ]
  },
  {
   "cell_type": "markdown",
   "metadata": {},
   "source": [
    "You must provide ONE of the following, with all else of type None!\n",
    "\n",
    "    - standardVolFlow is standard volumetric flow rate (with units!), such as SCFM\n",
    "    - massFlow is a mass flow rate (with units!), such as kg/s\n",
    "    - upstreamMach is upstream mach number (no units, duh)\n",
    "    - upstreamVel is upstream velocity (with units!), such as m/s\n"
   ]
  },
  {
   "cell_type": "code",
   "execution_count": 50,
   "metadata": {},
   "outputs": [],
   "source": [
    "standardVolFlow = None\n",
    "massFlow = None\n",
    "upstreamMach = 3\n",
    "upstreamVelocity = None"
   ]
  },
  {
   "cell_type": "markdown",
   "metadata": {},
   "source": [
    "### optional inputs"
   ]
  },
  {
   "cell_type": "markdown",
   "metadata": {},
   "source": [
    "upstreamTemp can either be of type None or have a value (with units!) given by Q_(temp, u.unit)"
   ]
  },
  {
   "cell_type": "code",
   "execution_count": 51,
   "metadata": {},
   "outputs": [],
   "source": [
    "upstreamTemp = Q_(103.5714, u.kelvin) # either None or Q_({temp here}, u.{unit here})"
   ]
  },
  {
   "cell_type": "markdown",
   "metadata": {},
   "source": [
    "### function run"
   ]
  },
  {
   "cell_type": "code",
   "execution_count": 52,
   "metadata": {},
   "outputs": [
    {
     "name": "stdout",
     "output_type": "stream",
     "text": [
      "gamma: 1.4045200527509583\n"
     ]
    }
   ],
   "source": [
    "downstreamMach, downstreamPress, downstreamTemp = fannoFlow.fannoFlow(u, fluid=fluid, upstreamPress=upstreamPress, \n",
    "                                                                         tubeDiam=tubeDiameter, tubeLen=tubeLength,\n",
    "                                                                         frictionCoeff=frictionCoeff, upstreamTemp=upstreamTemp,\n",
    "                                                                         standardVolFlow=standardVolFlow, massFlow=massFlow,\n",
    "                                                                         upstreamMach=upstreamMach, upstreamVel=upstreamVelocity)"
   ]
  },
  {
   "cell_type": "code",
   "execution_count": 53,
   "metadata": {},
   "outputs": [
    {
     "name": "stdout",
     "output_type": "stream",
     "text": [
      "M2: 2.699078257493897\n",
      "P2: 16155.489690516515 pascal\n",
      "P2-P1: 2543.649690516515 pascal\n",
      "T2: 118.09591425989305 kelvin\n"
     ]
    }
   ],
   "source": [
    "print(f'M2: {downstreamMach}')\n",
    "print(f'P2: {downstreamPress}')\n",
    "print(f'P2-P1: {downstreamPress-upstreamPress}')\n",
    "print(f'T2: {downstreamTemp}')"
   ]
  },
  {
   "cell_type": "markdown",
   "metadata": {},
   "source": [
    "# Isentropic Flow"
   ]
  },
  {
   "cell_type": "markdown",
   "metadata": {},
   "source": [
    "Use isentropic flow for adiabatic, referisble flow"
   ]
  },
  {
   "cell_type": "markdown",
   "metadata": {},
   "source": [
    "### inputs"
   ]
  },
  {
   "cell_type": "markdown",
   "metadata": {},
   "source": [
    "Theres are lots of possible inputs/outputs, only some are summarized below.\n",
    "\n",
    "| Inputs | Optional Inputs |\n",
    "| --- | --- |\n",
    "| M, gamma | M, P0_P, P0_Pstar, T0_T, T0_Tstar, rho0_rho, rho0_rhostar, A_Astar, a0_a |\n",
    "| M, P, gamma | M, P, P0, P0_P, P0_Pstar, T0_T, T0_Tstar, rho0_rho, rho0_rhostar, A_Astar, a0_a |\n",
    "| M, P, T0, fluid | M, P, P0, P0_P, P0_Pstar, T, T0, T0_T, T0_Tstar, rho0_rho, rho0_rhostar, A_Astar, a0_a |\n",
    "| A_Astar, regime | M, P0_P, P0_Pstar, T0_T, T0_Tstar, rho0_rho, rho0_rhostar, A_Astar, a0_a |\n",
    "| T_T0, regime | M, P0_P, P0_Pstar, T0_T, T0_Tstar, rho0_rho, rho0_rhostar, A_Astar, a0_a |"
   ]
  },
  {
   "cell_type": "markdown",
   "metadata": {},
   "source": [
    "### function call"
   ]
  },
  {
   "cell_type": "code",
   "execution_count": 60,
   "metadata": {},
   "outputs": [
    {
     "data": {
      "text/html": [
       "<div>\n",
       "<style scoped>\n",
       "    .dataframe tbody tr th:only-of-type {\n",
       "        vertical-align: middle;\n",
       "    }\n",
       "\n",
       "    .dataframe tbody tr th {\n",
       "        vertical-align: top;\n",
       "    }\n",
       "\n",
       "    .dataframe thead th {\n",
       "        text-align: right;\n",
       "    }\n",
       "</style>\n",
       "<table border=\"1\" class=\"dataframe\">\n",
       "  <thead>\n",
       "    <tr style=\"text-align: right;\">\n",
       "      <th></th>\n",
       "      <th>Variable</th>\n",
       "      <th>Value</th>\n",
       "    </tr>\n",
       "  </thead>\n",
       "  <tbody>\n",
       "    <tr>\n",
       "      <th>0</th>\n",
       "      <td>M</td>\n",
       "      <td>3.230000</td>\n",
       "    </tr>\n",
       "    <tr>\n",
       "      <th>1</th>\n",
       "      <td>P</td>\n",
       "      <td>NaN</td>\n",
       "    </tr>\n",
       "    <tr>\n",
       "      <th>2</th>\n",
       "      <td>P0</td>\n",
       "      <td>NaN</td>\n",
       "    </tr>\n",
       "    <tr>\n",
       "      <th>3</th>\n",
       "      <td>Pstar</td>\n",
       "      <td>NaN</td>\n",
       "    </tr>\n",
       "    <tr>\n",
       "      <th>4</th>\n",
       "      <td>P0_P</td>\n",
       "      <td>51.662020</td>\n",
       "    </tr>\n",
       "    <tr>\n",
       "      <th>5</th>\n",
       "      <td>P0_Pstar</td>\n",
       "      <td>1.892929</td>\n",
       "    </tr>\n",
       "    <tr>\n",
       "      <th>6</th>\n",
       "      <td>T</td>\n",
       "      <td>NaN</td>\n",
       "    </tr>\n",
       "    <tr>\n",
       "      <th>7</th>\n",
       "      <td>T0</td>\n",
       "      <td>NaN</td>\n",
       "    </tr>\n",
       "    <tr>\n",
       "      <th>8</th>\n",
       "      <td>Tstar</td>\n",
       "      <td>NaN</td>\n",
       "    </tr>\n",
       "    <tr>\n",
       "      <th>9</th>\n",
       "      <td>T0_T</td>\n",
       "      <td>3.086580</td>\n",
       "    </tr>\n",
       "    <tr>\n",
       "      <th>10</th>\n",
       "      <td>T0_Tstar</td>\n",
       "      <td>1.200000</td>\n",
       "    </tr>\n",
       "    <tr>\n",
       "      <th>11</th>\n",
       "      <td>rho</td>\n",
       "      <td>NaN</td>\n",
       "    </tr>\n",
       "    <tr>\n",
       "      <th>12</th>\n",
       "      <td>rho0</td>\n",
       "      <td>NaN</td>\n",
       "    </tr>\n",
       "    <tr>\n",
       "      <th>13</th>\n",
       "      <td>rhostar</td>\n",
       "      <td>NaN</td>\n",
       "    </tr>\n",
       "    <tr>\n",
       "      <th>14</th>\n",
       "      <td>rho0_rho</td>\n",
       "      <td>16.737625</td>\n",
       "    </tr>\n",
       "    <tr>\n",
       "      <th>15</th>\n",
       "      <td>rho0_rhostar</td>\n",
       "      <td>1.577441</td>\n",
       "    </tr>\n",
       "    <tr>\n",
       "      <th>16</th>\n",
       "      <td>A</td>\n",
       "      <td>NaN</td>\n",
       "    </tr>\n",
       "    <tr>\n",
       "      <th>17</th>\n",
       "      <td>Astar</td>\n",
       "      <td>NaN</td>\n",
       "    </tr>\n",
       "    <tr>\n",
       "      <th>18</th>\n",
       "      <td>A_Astar</td>\n",
       "      <td>5.268492</td>\n",
       "    </tr>\n",
       "    <tr>\n",
       "      <th>19</th>\n",
       "      <td>a0_a</td>\n",
       "      <td>1.756867</td>\n",
       "    </tr>\n",
       "  </tbody>\n",
       "</table>\n",
       "</div>"
      ],
      "text/plain": [
       "        Variable      Value\n",
       "0              M   3.230000\n",
       "1              P        NaN\n",
       "2             P0        NaN\n",
       "3          Pstar        NaN\n",
       "4           P0_P  51.662020\n",
       "5       P0_Pstar   1.892929\n",
       "6              T        NaN\n",
       "7             T0        NaN\n",
       "8          Tstar        NaN\n",
       "9           T0_T   3.086580\n",
       "10      T0_Tstar   1.200000\n",
       "11           rho        NaN\n",
       "12          rho0        NaN\n",
       "13       rhostar        NaN\n",
       "14      rho0_rho  16.737625\n",
       "15  rho0_rhostar   1.577441\n",
       "16             A        NaN\n",
       "17         Astar        NaN\n",
       "18       A_Astar   5.268492\n",
       "19          a0_a   1.756867"
      ]
     },
     "execution_count": 60,
     "metadata": {},
     "output_type": "execute_result"
    }
   ],
   "source": [
    "results = isentropicFlow.isentropicFlow(u, gamma=1.4, M=3.23)\n",
    "\n",
    "df_result = pd.DataFrame(results.items(), columns=['Variable', 'Value'])\n",
    "df_result"
   ]
  }
 ],
 "metadata": {
  "kernelspec": {
   "display_name": "base",
   "language": "python",
   "name": "python3"
  },
  "language_info": {
   "codemirror_mode": {
    "name": "ipython",
    "version": 3
   },
   "file_extension": ".py",
   "mimetype": "text/x-python",
   "name": "python",
   "nbconvert_exporter": "python",
   "pygments_lexer": "ipython3",
   "version": "3.8.3"
  }
 },
 "nbformat": 4,
 "nbformat_minor": 2
}
