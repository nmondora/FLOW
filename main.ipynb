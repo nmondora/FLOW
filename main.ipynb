{
 "cells": [
  {
   "cell_type": "code",
   "execution_count": null,
   "metadata": {},
   "outputs": [],
   "source": [
    "from pint import UnitRegistry\n",
    "u = UnitRegistry()\n",
    "Q_ = u.Quantity\n",
    "import pandas as pd\n",
    "import fannoFlow\n",
    "import isentropicFlow"
   ]
  },
  {
   "cell_type": "markdown",
   "metadata": {},
   "source": [
    "# Fanno Flow"
   ]
  },
  {
   "cell_type": "markdown",
   "metadata": {},
   "source": [
    "Use Fanno Flow for constant-area, adiabatic flow with friction."
   ]
  },
  {
   "cell_type": "markdown",
   "metadata": {},
   "source": [
    "### required inputs"
   ]
  },
  {
   "cell_type": "code",
   "execution_count": null,
   "metadata": {},
   "outputs": [],
   "source": [
    "fluid = \"air\"\n",
    "upstreamPress = 13611.84 * u.pascal\n",
    "tubeDiameter = 0.1 * u.meter\n",
    "tubeLength = 1 * u.meter\n",
    "frictionCoeff = 0.005"
   ]
  },
  {
   "cell_type": "markdown",
   "metadata": {},
   "source": [
    "You must provide ONE of the following, with all else of type None!\n",
    "\n",
    "    - standardVolFlow is standard volumetric flow rate (with units!), such as SCFM\n",
    "    - massFlow is a mass flow rate (with units!), such as kg/s\n",
    "    - upstreamMach is upstream mach number (no units, duh)\n",
    "    - upstreamVel is upstream velocity (with units!), such as m/s\n"
   ]
  },
  {
   "cell_type": "code",
   "execution_count": null,
   "metadata": {},
   "outputs": [],
   "source": [
    "standardVolFlow = None\n",
    "massFlow = None\n",
    "upstreamMach = 3\n",
    "upstreamVelocity = None"
   ]
  },
  {
   "cell_type": "markdown",
   "metadata": {},
   "source": [
    "### optional inputs"
   ]
  },
  {
   "cell_type": "markdown",
   "metadata": {},
   "source": [
    "upstreamTemp can either be of type None or have a value (with units!) given by Q_(temp, u.unit)"
   ]
  },
  {
   "cell_type": "code",
   "execution_count": null,
   "metadata": {},
   "outputs": [],
   "source": [
    "upstreamTemp = Q_(103.5714, u.kelvin) # either None or Q_({temp here}, u.{unit here})"
   ]
  },
  {
   "cell_type": "markdown",
   "metadata": {},
   "source": [
    "### function run"
   ]
  },
  {
   "cell_type": "code",
   "execution_count": null,
   "metadata": {},
   "outputs": [
    {
     "name": "stdout",
     "output_type": "stream",
     "text": [
      "gamma: 1.4045200527509583\n"
     ]
    }
   ],
   "source": [
    "downstreamMach, downstreamPress, downstreamTemp = fannoFlow.fannoFlow(u, fluid=fluid, upstreamPress=upstreamPress, \n",
    "                                                                         tubeDiam=tubeDiameter, tubeLen=tubeLength,\n",
    "                                                                         frictionCoeff=frictionCoeff, upstreamTemp=upstreamTemp,\n",
    "                                                                         standardVolFlow=standardVolFlow, massFlow=massFlow,\n",
    "                                                                         upstreamMach=upstreamMach, upstreamVel=upstreamVelocity)"
   ]
  },
  {
   "cell_type": "code",
   "execution_count": null,
   "metadata": {},
   "outputs": [
    {
     "name": "stdout",
     "output_type": "stream",
     "text": [
      "M2: 2.699078257493897\n",
      "P2: 16155.489690516515 pascal\n",
      "P2-P1: 2543.649690516515 pascal\n",
      "T2: 118.09591425989305 kelvin\n"
     ]
    }
   ],
   "source": [
    "print(f'M2: {downstreamMach}')\n",
    "print(f'P2: {downstreamPress}')\n",
    "print(f'P2-P1: {downstreamPress-upstreamPress}')\n",
    "print(f'T2: {downstreamTemp}')"
   ]
  },
  {
   "cell_type": "markdown",
   "metadata": {},
   "source": [
    "# Isentropic Flow"
   ]
  },
  {
   "cell_type": "markdown",
   "metadata": {},
   "source": [
    "Use isentropic flow for adiabatic, referisble flow"
   ]
  },
  {
   "cell_type": "markdown",
   "metadata": {},
   "source": [
    "### inputs"
   ]
  },
  {
   "cell_type": "markdown",
   "metadata": {},
   "source": [
    "Theres are lots of possible inputs/outputs, only some are summarized below.\n",
    "\n",
    "| Inputs | Optional Inputs |\n",
    "| --- | --- |\n",
    "| M, gamma | M, P0_P, P0_Pstar, T0_T, T0_Tstar, rho0_rho, rho0_rhostar, A_Astar, a0_a |\n",
    "| M, P, gamma | M, P, P0, P0_P, P0_Pstar, T0_T, T0_Tstar, rho0_rho, rho0_rhostar, A_Astar, a0_a |\n",
    "| M, P, T0, fluid | M, P, P0, P0_P, P0_Pstar, T, T0, T0_T, T0_Tstar, rho0_rho, rho0_rhostar, A_Astar, a0_a |\n",
    "| A_Astar, regime | M, P0_P, P0_Pstar, T0_T, T0_Tstar, rho0_rho, rho0_rhostar, A_Astar, a0_a |\n",
    "| T_T0, regime | M, P0_P, P0_Pstar, T0_T, T0_Tstar, rho0_rho, rho0_rhostar, A_Astar, a0_a |"
   ]
  },
  {
   "cell_type": "markdown",
   "metadata": {},
   "source": [
    "### function call"
   ]
  },
  {
   "cell_type": "code",
   "execution_count": null,
   "metadata": {},
   "outputs": [],
   "source": [
    "results = isentropicFlow.isentropicFlow(u, gamma=1.4, M=3.23)"
   ]
  },
  {
   "cell_type": "code",
   "execution_count": null,
   "metadata": {},
   "outputs": [
    {
     "data": {
      "text/html": [
       "<div>\n",
       "<style scoped>\n",
       "    .dataframe tbody tr th:only-of-type {\n",
       "        vertical-align: middle;\n",
       "    }\n",
       "\n",
       "    .dataframe tbody tr th {\n",
       "        vertical-align: top;\n",
       "    }\n",
       "\n",
       "    .dataframe thead th {\n",
       "        text-align: right;\n",
       "    }\n",
       "</style>\n",
       "<table border=\"1\" class=\"dataframe\">\n",
       "  <thead>\n",
       "    <tr style=\"text-align: right;\">\n",
       "      <th>Variable</th>\n",
       "      <th>M</th>\n",
       "      <th>P0_P</th>\n",
       "      <th>P0_Pstar</th>\n",
       "      <th>T0_T</th>\n",
       "      <th>T0_Tstar</th>\n",
       "      <th>rho0_rho</th>\n",
       "      <th>rho0_rhostar</th>\n",
       "      <th>A_Astar</th>\n",
       "      <th>a0_a</th>\n",
       "    </tr>\n",
       "  </thead>\n",
       "  <tbody>\n",
       "    <tr>\n",
       "      <th>Value</th>\n",
       "      <td>3.23</td>\n",
       "      <td>51.66202</td>\n",
       "      <td>1.892929</td>\n",
       "      <td>3.08658</td>\n",
       "      <td>1.2</td>\n",
       "      <td>16.737625</td>\n",
       "      <td>1.577441</td>\n",
       "      <td>5.268492</td>\n",
       "      <td>1.756867</td>\n",
       "    </tr>\n",
       "  </tbody>\n",
       "</table>\n",
       "</div>"
      ],
      "text/plain": [
       "Variable     M      P0_P  P0_Pstar     T0_T  T0_Tstar   rho0_rho  \\\n",
       "Value     3.23  51.66202  1.892929  3.08658       1.2  16.737625   \n",
       "\n",
       "Variable  rho0_rhostar   A_Astar      a0_a  \n",
       "Value         1.577441  5.268492  1.756867  "
      ]
     },
     "execution_count": 80,
     "metadata": {},
     "output_type": "execute_result"
    }
   ],
   "source": [
    "# Filter out entries with value None\n",
    "filtered_result = {key: value for key, value in results.items() if value is not None}\n",
    "\n",
    "# Convert the filtered dictionary to a DataFrame\n",
    "df_result = pd.DataFrame(filtered_result.items(), columns=['Variable', 'Value']).set_index('Variable').transpose()\n",
    "\n",
    "# Display the transposed DataFrame\n",
    "df_result"
   ]
  }
 ],
 "metadata": {
  "kernelspec": {
   "display_name": "base",
   "language": "python",
   "name": "python3"
  },
  "language_info": {
   "codemirror_mode": {
    "name": "ipython",
    "version": 3
   },
   "file_extension": ".py",
   "mimetype": "text/x-python",
   "name": "python",
   "nbconvert_exporter": "python",
   "pygments_lexer": "ipython3",
   "version": "3.8.3"
  }
 },
 "nbformat": 4,
 "nbformat_minor": 2
}
