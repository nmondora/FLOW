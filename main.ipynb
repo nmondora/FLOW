{
 "cells": [
  {
   "cell_type": "code",
   "execution_count": 31,
   "metadata": {},
   "outputs": [],
   "source": [
    "from pint import UnitRegistry\n",
    "u = UnitRegistry()\n",
    "Q_ = u.Quantity\n",
    "import fannoFlow"
   ]
  },
  {
   "cell_type": "markdown",
   "metadata": {},
   "source": [
    "# Fanno Flow"
   ]
  },
  {
   "cell_type": "markdown",
   "metadata": {},
   "source": [
    "Use Fanno Flow for constant-area, adiabatic flow with friction."
   ]
  },
  {
   "cell_type": "markdown",
   "metadata": {},
   "source": [
    "### required inputs"
   ]
  },
  {
   "cell_type": "code",
   "execution_count": 32,
   "metadata": {},
   "outputs": [],
   "source": [
    "fluid = \"air\"\n",
    "upstreamPress = 13611.84 * u.pascal\n",
    "tubeDiameter = 0.1 * u.meter\n",
    "tubeLength = 1 * u.meter\n",
    "frictionCoeff = 0.005\n"
   ]
  },
  {
   "cell_type": "markdown",
   "metadata": {},
   "source": [
    "You must provide ONE of the following, with all else of type None!\n",
    "\n",
    "    - standardVolFlow is standard volumetric flow rate (with units!), such as SCFM\n",
    "    - massFlow is a mass flow rate (with units!), such as kg/s\n",
    "    - upstreamMach is upstream mach number (no units, duh)\n",
    "    - upstreamVel is upstream velocity (with units!), such as m/s\n"
   ]
  },
  {
   "cell_type": "code",
   "execution_count": 33,
   "metadata": {},
   "outputs": [],
   "source": [
    "standardVolFlow = None\n",
    "massFlow = None\n",
    "upstreamMach = 3\n",
    "upstreamVelocity = None"
   ]
  },
  {
   "cell_type": "markdown",
   "metadata": {},
   "source": [
    "### optional inputs"
   ]
  },
  {
   "cell_type": "markdown",
   "metadata": {},
   "source": [
    "upstreamTemp can either be of type None or have a value (with units!) given by Q_(temp, u.unit)"
   ]
  },
  {
   "cell_type": "code",
   "execution_count": 34,
   "metadata": {},
   "outputs": [],
   "source": [
    "upstreamTemp = Q_(103.5714, u.kelvin) # either None or Q_({temp here}, u.{unit here})"
   ]
  },
  {
   "cell_type": "markdown",
   "metadata": {},
   "source": [
    "### function run"
   ]
  },
  {
   "cell_type": "code",
   "execution_count": 35,
   "metadata": {},
   "outputs": [
    {
     "name": "stdout",
     "output_type": "stream",
     "text": [
      "gamma: 1.4045200527509583\n"
     ]
    }
   ],
   "source": [
    "downstreamMach, downstreamPress, downstreamTemp = fannoFlow.fannoFlow(u, fluid=fluid, upstreamPress=upstreamPress, \n",
    "                                                                         tubeDiam=tubeDiameter, tubeLen=tubeLength,\n",
    "                                                                         frictionCoeff=frictionCoeff, upstreamTemp=upstreamTemp,\n",
    "                                                                         standardVolFlow=standardVolFlow, massFlow=massFlow,\n",
    "                                                                         upstreamMach=upstreamMach, upstreamVel=upstreamVelocity)"
   ]
  },
  {
   "cell_type": "code",
   "execution_count": 38,
   "metadata": {},
   "outputs": [
    {
     "name": "stdout",
     "output_type": "stream",
     "text": [
      "M2: 2.699078257493897\n",
      "P2: 16155.489690516515 pascal\n",
      "P2-P1: 2543.649690516515 pascal\n",
      "T2: 118.09591425989305 kelvin\n"
     ]
    }
   ],
   "source": [
    "print(f'M2: {downstreamMach}')\n",
    "print(f'P2: {downstreamPress}')\n",
    "print(f'P2-P1: {downstreamPress-upstreamPress}')\n",
    "print(f'T2: {downstreamTemp}')"
   ]
  }
 ],
 "metadata": {
  "kernelspec": {
   "display_name": "base",
   "language": "python",
   "name": "python3"
  },
  "language_info": {
   "codemirror_mode": {
    "name": "ipython",
    "version": 3
   },
   "file_extension": ".py",
   "mimetype": "text/x-python",
   "name": "python",
   "nbconvert_exporter": "python",
   "pygments_lexer": "ipython3",
   "version": "3.8.3"
  }
 },
 "nbformat": 4,
 "nbformat_minor": 2
}
